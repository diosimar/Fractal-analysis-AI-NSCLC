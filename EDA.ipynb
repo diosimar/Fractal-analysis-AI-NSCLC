{
 "cells": [
  {
   "cell_type": "code",
   "execution_count": 1,
   "metadata": {},
   "outputs": [],
   "source": [
    "# importación de  librerias\n",
    "#### Modulos para  procesar y analizar/viz datos \n",
    "import pandas as pd\n",
    "import numpy as np\n",
    "import matplotlib as mpl\n",
    "import matplotlib.cm as cm\n",
    "import matplotlib.pyplot as plt\n",
    "import seaborn as sns\n",
    "import scipy.stats\n",
    "from scipy.spatial.distance import cdist\n",
    "from prettytable import PrettyTable\n",
    "from src import  utils as fn\n",
    "\n",
    "## modulos para  procesamiento avanzado de  datos y modelado IA/ML\n",
    "from sklearn.preprocessing import MinMaxScaler, StandardScaler\n",
    "from sklearn.cluster import KMeans\n",
    "from sklearn.metrics import  silhouette_score, davies_bouldin_score\n",
    "from sklearn.model_selection import GridSearchCV\n",
    "from sklearn.impute import KNNImputer , SimpleImputer\n",
    "from yellowbrick.cluster import KElbowVisualizer\n",
    "\n",
    "# control de  advertencias\n",
    "import  warnings\n",
    "warnings.filterwarnings(\"ignore\")"
   ]
  },
  {
   "cell_type": "code",
   "execution_count": 2,
   "metadata": {},
   "outputs": [],
   "source": [
    "# cargue conjunto de datos \n",
    "df_nsclc = pd.read_csv('Data/data.csv')"
   ]
  },
  {
   "cell_type": "code",
   "execution_count": 3,
   "metadata": {},
   "outputs": [
    {
     "data": {
      "text/html": [
       "<div>\n",
       "<style scoped>\n",
       "    .dataframe tbody tr th:only-of-type {\n",
       "        vertical-align: middle;\n",
       "    }\n",
       "\n",
       "    .dataframe tbody tr th {\n",
       "        vertical-align: top;\n",
       "    }\n",
       "\n",
       "    .dataframe thead th {\n",
       "        text-align: right;\n",
       "    }\n",
       "</style>\n",
       "<table border=\"1\" class=\"dataframe\">\n",
       "  <thead>\n",
       "    <tr style=\"text-align: right;\">\n",
       "      <th></th>\n",
       "      <th>PatientID</th>\n",
       "      <th>age</th>\n",
       "      <th>clinical.T.Stage</th>\n",
       "      <th>Clinical.N.Stage</th>\n",
       "      <th>Clinical.M.Stage</th>\n",
       "      <th>Overall.Stage</th>\n",
       "      <th>Histology</th>\n",
       "      <th>gender</th>\n",
       "      <th>Survival.time</th>\n",
       "      <th>deadstatus.event</th>\n",
       "      <th>F.analysis</th>\n",
       "    </tr>\n",
       "  </thead>\n",
       "  <tbody>\n",
       "    <tr>\n",
       "      <th>0</th>\n",
       "      <td>LUNG1-001</td>\n",
       "      <td>78.7515</td>\n",
       "      <td>2.0</td>\n",
       "      <td>3</td>\n",
       "      <td>0</td>\n",
       "      <td>IIIb</td>\n",
       "      <td>large cell</td>\n",
       "      <td>male</td>\n",
       "      <td>2165</td>\n",
       "      <td>1</td>\n",
       "      <td>1.771485</td>\n",
       "    </tr>\n",
       "    <tr>\n",
       "      <th>1</th>\n",
       "      <td>LUNG1-002</td>\n",
       "      <td>83.8001</td>\n",
       "      <td>2.0</td>\n",
       "      <td>0</td>\n",
       "      <td>0</td>\n",
       "      <td>I</td>\n",
       "      <td>squamous cell carcinoma</td>\n",
       "      <td>male</td>\n",
       "      <td>155</td>\n",
       "      <td>1</td>\n",
       "      <td>1.881307</td>\n",
       "    </tr>\n",
       "    <tr>\n",
       "      <th>2</th>\n",
       "      <td>LUNG1-003</td>\n",
       "      <td>68.1807</td>\n",
       "      <td>2.0</td>\n",
       "      <td>3</td>\n",
       "      <td>0</td>\n",
       "      <td>IIIb</td>\n",
       "      <td>large cell</td>\n",
       "      <td>male</td>\n",
       "      <td>256</td>\n",
       "      <td>1</td>\n",
       "      <td>1.376259</td>\n",
       "    </tr>\n",
       "  </tbody>\n",
       "</table>\n",
       "</div>"
      ],
      "text/plain": [
       "   PatientID      age  clinical.T.Stage  Clinical.N.Stage  Clinical.M.Stage  \\\n",
       "0  LUNG1-001  78.7515               2.0                 3                 0   \n",
       "1  LUNG1-002  83.8001               2.0                 0                 0   \n",
       "2  LUNG1-003  68.1807               2.0                 3                 0   \n",
       "\n",
       "  Overall.Stage                Histology gender  Survival.time  \\\n",
       "0          IIIb               large cell   male           2165   \n",
       "1             I  squamous cell carcinoma   male            155   \n",
       "2          IIIb               large cell   male            256   \n",
       "\n",
       "   deadstatus.event  F.analysis  \n",
       "0                 1    1.771485  \n",
       "1                 1    1.881307  \n",
       "2                 1    1.376259  "
      ]
     },
     "execution_count": 3,
     "metadata": {},
     "output_type": "execute_result"
    }
   ],
   "source": [
    "df_nsclc .head(3)"
   ]
  },
  {
   "cell_type": "code",
   "execution_count": 4,
   "metadata": {},
   "outputs": [
    {
     "name": "stdout",
     "output_type": "stream",
     "text": [
      "<class 'pandas.core.frame.DataFrame'>\n",
      "RangeIndex: 422 entries, 0 to 421\n",
      "Data columns (total 11 columns):\n",
      " #   Column            Non-Null Count  Dtype  \n",
      "---  ------            --------------  -----  \n",
      " 0   PatientID         422 non-null    object \n",
      " 1   age               400 non-null    float64\n",
      " 2   clinical.T.Stage  421 non-null    float64\n",
      " 3   Clinical.N.Stage  422 non-null    int64  \n",
      " 4   Clinical.M.Stage  422 non-null    int64  \n",
      " 5   Overall.Stage     421 non-null    object \n",
      " 6   Histology         380 non-null    object \n",
      " 7   gender            422 non-null    object \n",
      " 8   Survival.time     422 non-null    int64  \n",
      " 9   deadstatus.event  422 non-null    int64  \n",
      " 10  F.analysis        422 non-null    float64\n",
      "dtypes: float64(3), int64(4), object(4)\n",
      "memory usage: 36.4+ KB\n"
     ]
    }
   ],
   "source": [
    "df_nsclc.info()"
   ]
  },
  {
   "cell_type": "code",
   "execution_count": 5,
   "metadata": {},
   "outputs": [
    {
     "data": {
      "image/png": "[encoded data removed]",
      "text/plain": [
       "<Figure size 2000x1500 with 1 Axes>"
      ]
     },
     "metadata": {},
     "output_type": "display_data"
    }
   ],
   "source": [
    "# Histograma de  la varaible \"age\" para identificar la distribuciónS\n",
    "fn.plot_histogram_(df_nsclc, 'age', 'blue', bins=10, figsize=(20, 15))"
   ]
  },
  {
   "cell_type": "code",
   "execution_count": 6,
   "metadata": {},
   "outputs": [
    {
     "data": {
      "text/html": [
       "<div>\n",
       "<style scoped>\n",
       "    .dataframe tbody tr th:only-of-type {\n",
       "        vertical-align: middle;\n",
       "    }\n",
       "\n",
       "    .dataframe tbody tr th {\n",
       "        vertical-align: top;\n",
       "    }\n",
       "\n",
       "    .dataframe thead th {\n",
       "        text-align: right;\n",
       "    }\n",
       "</style>\n",
       "<table border=\"1\" class=\"dataframe\">\n",
       "  <thead>\n",
       "    <tr style=\"text-align: right;\">\n",
       "      <th></th>\n",
       "      <th>PatientID</th>\n",
       "      <th>age</th>\n",
       "      <th>clinical.T.Stage</th>\n",
       "      <th>Clinical.N.Stage</th>\n",
       "      <th>Clinical.M.Stage</th>\n",
       "      <th>Overall.Stage</th>\n",
       "      <th>Histology</th>\n",
       "      <th>gender</th>\n",
       "      <th>Survival.time</th>\n",
       "      <th>deadstatus.event</th>\n",
       "      <th>F.analysis</th>\n",
       "    </tr>\n",
       "  </thead>\n",
       "  <tbody>\n",
       "    <tr>\n",
       "      <th>0</th>\n",
       "      <td>LUNG1-001</td>\n",
       "      <td>78.7515</td>\n",
       "      <td>2.0</td>\n",
       "      <td>3</td>\n",
       "      <td>0</td>\n",
       "      <td>IIIb</td>\n",
       "      <td>large cell</td>\n",
       "      <td>male</td>\n",
       "      <td>2165</td>\n",
       "      <td>1</td>\n",
       "      <td>1.771485</td>\n",
       "    </tr>\n",
       "    <tr>\n",
       "      <th>1</th>\n",
       "      <td>LUNG1-002</td>\n",
       "      <td>83.8001</td>\n",
       "      <td>2.0</td>\n",
       "      <td>0</td>\n",
       "      <td>0</td>\n",
       "      <td>I</td>\n",
       "      <td>squamous cell carcinoma</td>\n",
       "      <td>male</td>\n",
       "      <td>155</td>\n",
       "      <td>1</td>\n",
       "      <td>1.881307</td>\n",
       "    </tr>\n",
       "    <tr>\n",
       "      <th>2</th>\n",
       "      <td>LUNG1-003</td>\n",
       "      <td>68.1807</td>\n",
       "      <td>2.0</td>\n",
       "      <td>3</td>\n",
       "      <td>0</td>\n",
       "      <td>IIIb</td>\n",
       "      <td>large cell</td>\n",
       "      <td>male</td>\n",
       "      <td>256</td>\n",
       "      <td>1</td>\n",
       "      <td>1.376259</td>\n",
       "    </tr>\n",
       "    <tr>\n",
       "      <th>3</th>\n",
       "      <td>LUNG1-004</td>\n",
       "      <td>70.8802</td>\n",
       "      <td>2.0</td>\n",
       "      <td>1</td>\n",
       "      <td>0</td>\n",
       "      <td>II</td>\n",
       "      <td>squamous cell carcinoma</td>\n",
       "      <td>male</td>\n",
       "      <td>141</td>\n",
       "      <td>1</td>\n",
       "      <td>1.73471</td>\n",
       "    </tr>\n",
       "    <tr>\n",
       "      <th>4</th>\n",
       "      <td>LUNG1-005</td>\n",
       "      <td>80.4819</td>\n",
       "      <td>4.0</td>\n",
       "      <td>2</td>\n",
       "      <td>0</td>\n",
       "      <td>IIIb</td>\n",
       "      <td>squamous cell carcinoma</td>\n",
       "      <td>male</td>\n",
       "      <td>353</td>\n",
       "      <td>1</td>\n",
       "      <td>1.581113</td>\n",
       "    </tr>\n",
       "  </tbody>\n",
       "</table>\n",
       "</div>"
      ],
      "text/plain": [
       "   PatientID      age clinical.T.Stage Clinical.N.Stage Clinical.M.Stage  \\\n",
       "0  LUNG1-001  78.7515              2.0                3                0   \n",
       "1  LUNG1-002  83.8001              2.0                0                0   \n",
       "2  LUNG1-003  68.1807              2.0                3                0   \n",
       "3  LUNG1-004  70.8802              2.0                1                0   \n",
       "4  LUNG1-005  80.4819              4.0                2                0   \n",
       "\n",
       "  Overall.Stage                Histology gender Survival.time  \\\n",
       "0          IIIb               large cell   male          2165   \n",
       "1             I  squamous cell carcinoma   male           155   \n",
       "2          IIIb               large cell   male           256   \n",
       "3            II  squamous cell carcinoma   male           141   \n",
       "4          IIIb  squamous cell carcinoma   male           353   \n",
       "\n",
       "  deadstatus.event F.analysis  \n",
       "0                1   1.771485  \n",
       "1                1   1.881307  \n",
       "2                1   1.376259  \n",
       "3                1    1.73471  \n",
       "4                1   1.581113  "
      ]
     },
     "execution_count": 6,
     "metadata": {},
     "output_type": "execute_result"
    }
   ],
   "source": [
    "## Proceso  de  imputación de  valores  perdidos  sobre utilizando KnnImputer\n",
    "columnas=df_nsclc.columns # nombre de las columnas\n",
    "knni = KNNImputer(n_neighbors=3)\n",
    "\n",
    "col_imputations = knni.fit_transform(df_nsclc[['age']])\n",
    "values_imputations = np.concatenate([df_nsclc[[ 'PatientID']],col_imputations,df_nsclc[[ 'clinical.T.Stage', 'Clinical.N.Stage',\n",
    "       'Clinical.M.Stage', 'Overall.Stage', 'Histology', 'gender',\n",
    "       'Survival.time', 'deadstatus.event', 'F.analysis']].values], axis=1)\n",
    "\n",
    "Data2 = pd.DataFrame(values_imputations, columns=columnas)\n",
    "Data2.head()"
   ]
  },
  {
   "cell_type": "code",
   "execution_count": 7,
   "metadata": {},
   "outputs": [
    {
     "name": "stdout",
     "output_type": "stream",
     "text": [
      "<class 'pandas.core.frame.DataFrame'>\n",
      "RangeIndex: 422 entries, 0 to 421\n",
      "Data columns (total 11 columns):\n",
      " #   Column            Non-Null Count  Dtype \n",
      "---  ------            --------------  ----- \n",
      " 0   PatientID         422 non-null    object\n",
      " 1   age               422 non-null    object\n",
      " 2   clinical.T.Stage  421 non-null    object\n",
      " 3   Clinical.N.Stage  422 non-null    object\n",
      " 4   Clinical.M.Stage  422 non-null    object\n",
      " 5   Overall.Stage     421 non-null    object\n",
      " 6   Histology         380 non-null    object\n",
      " 7   gender            422 non-null    object\n",
      " 8   Survival.time     422 non-null    object\n",
      " 9   deadstatus.event  422 non-null    object\n",
      " 10  F.analysis        422 non-null    object\n",
      "dtypes: object(11)\n",
      "memory usage: 36.4+ KB\n"
     ]
    }
   ],
   "source": [
    "Data2.info()"
   ]
  },
  {
   "cell_type": "code",
   "execution_count": 8,
   "metadata": {},
   "outputs": [],
   "source": [
    "# Ajuste  de  tipo de  datos sobre  columnas  seleccionadas del dataFrame\n",
    "cols_int = ['Clinical.N.Stage','Survival.time','Clinical.M.Stage', 'deadstatus.event' ]\n",
    "cols_float = ['age', 'clinical.T.Stage','F.analysis',  ]\n",
    "\n",
    "Data2 = fn.manejo_tipo_dato(Data2 ,cols_int , cols_float)"
   ]
  },
  {
   "cell_type": "code",
   "execution_count": 9,
   "metadata": {},
   "outputs": [
    {
     "data": {
      "text/html": [
       "<div>\n",
       "<style scoped>\n",
       "    .dataframe tbody tr th:only-of-type {\n",
       "        vertical-align: middle;\n",
       "    }\n",
       "\n",
       "    .dataframe tbody tr th {\n",
       "        vertical-align: top;\n",
       "    }\n",
       "\n",
       "    .dataframe thead th {\n",
       "        text-align: right;\n",
       "    }\n",
       "</style>\n",
       "<table border=\"1\" class=\"dataframe\">\n",
       "  <thead>\n",
       "    <tr style=\"text-align: right;\">\n",
       "      <th></th>\n",
       "      <th>age</th>\n",
       "      <th>clinical.T.Stage</th>\n",
       "      <th>Clinical.N.Stage</th>\n",
       "      <th>Clinical.M.Stage</th>\n",
       "      <th>Survival.time</th>\n",
       "      <th>deadstatus.event</th>\n",
       "      <th>F.analysis</th>\n",
       "    </tr>\n",
       "  </thead>\n",
       "  <tbody>\n",
       "    <tr>\n",
       "      <th>count</th>\n",
       "      <td>422.000000</td>\n",
       "      <td>421.000000</td>\n",
       "      <td>422.000000</td>\n",
       "      <td>422.000000</td>\n",
       "      <td>422.000000</td>\n",
       "      <td>422.000000</td>\n",
       "      <td>422.000000</td>\n",
       "    </tr>\n",
       "    <tr>\n",
       "      <th>mean</th>\n",
       "      <td>68.036500</td>\n",
       "      <td>2.475059</td>\n",
       "      <td>1.355450</td>\n",
       "      <td>0.030806</td>\n",
       "      <td>988.857820</td>\n",
       "      <td>0.883886</td>\n",
       "      <td>1.469367</td>\n",
       "    </tr>\n",
       "    <tr>\n",
       "      <th>std</th>\n",
       "      <td>9.816499</td>\n",
       "      <td>1.130727</td>\n",
       "      <td>1.218116</td>\n",
       "      <td>0.294847</td>\n",
       "      <td>1035.567789</td>\n",
       "      <td>0.320742</td>\n",
       "      <td>0.322038</td>\n",
       "    </tr>\n",
       "    <tr>\n",
       "      <th>min</th>\n",
       "      <td>33.684900</td>\n",
       "      <td>1.000000</td>\n",
       "      <td>0.000000</td>\n",
       "      <td>0.000000</td>\n",
       "      <td>10.000000</td>\n",
       "      <td>0.000000</td>\n",
       "      <td>0.521329</td>\n",
       "    </tr>\n",
       "    <tr>\n",
       "      <th>25%</th>\n",
       "      <td>61.705175</td>\n",
       "      <td>2.000000</td>\n",
       "      <td>0.000000</td>\n",
       "      <td>0.000000</td>\n",
       "      <td>261.000000</td>\n",
       "      <td>1.000000</td>\n",
       "      <td>1.241398</td>\n",
       "    </tr>\n",
       "    <tr>\n",
       "      <th>50%</th>\n",
       "      <td>68.036500</td>\n",
       "      <td>2.000000</td>\n",
       "      <td>2.000000</td>\n",
       "      <td>0.000000</td>\n",
       "      <td>545.500000</td>\n",
       "      <td>1.000000</td>\n",
       "      <td>1.486758</td>\n",
       "    </tr>\n",
       "    <tr>\n",
       "      <th>75%</th>\n",
       "      <td>75.391250</td>\n",
       "      <td>4.000000</td>\n",
       "      <td>2.000000</td>\n",
       "      <td>0.000000</td>\n",
       "      <td>1397.000000</td>\n",
       "      <td>1.000000</td>\n",
       "      <td>1.693736</td>\n",
       "    </tr>\n",
       "    <tr>\n",
       "      <th>max</th>\n",
       "      <td>91.704300</td>\n",
       "      <td>5.000000</td>\n",
       "      <td>4.000000</td>\n",
       "      <td>3.000000</td>\n",
       "      <td>4454.000000</td>\n",
       "      <td>1.000000</td>\n",
       "      <td>2.602347</td>\n",
       "    </tr>\n",
       "  </tbody>\n",
       "</table>\n",
       "</div>"
      ],
      "text/plain": [
       "              age  clinical.T.Stage  Clinical.N.Stage  Clinical.M.Stage  \\\n",
       "count  422.000000        421.000000        422.000000        422.000000   \n",
       "mean    68.036500          2.475059          1.355450          0.030806   \n",
       "std      9.816499          1.130727          1.218116          0.294847   \n",
       "min     33.684900          1.000000          0.000000          0.000000   \n",
       "25%     61.705175          2.000000          0.000000          0.000000   \n",
       "50%     68.036500          2.000000          2.000000          0.000000   \n",
       "75%     75.391250          4.000000          2.000000          0.000000   \n",
       "max     91.704300          5.000000          4.000000          3.000000   \n",
       "\n",
       "       Survival.time  deadstatus.event  F.analysis  \n",
       "count     422.000000        422.000000  422.000000  \n",
       "mean      988.857820          0.883886    1.469367  \n",
       "std      1035.567789          0.320742    0.322038  \n",
       "min        10.000000          0.000000    0.521329  \n",
       "25%       261.000000          1.000000    1.241398  \n",
       "50%       545.500000          1.000000    1.486758  \n",
       "75%      1397.000000          1.000000    1.693736  \n",
       "max      4454.000000          1.000000    2.602347  "
      ]
     },
     "execution_count": 9,
     "metadata": {},
     "output_type": "execute_result"
    }
   ],
   "source": [
    "Data2.describe()"
   ]
  },
  {
   "cell_type": "code",
   "execution_count": 10,
   "metadata": {},
   "outputs": [
    {
     "data": {
      "image/png": "[encoded data removed]",
      "text/plain": [
       "<Figure size 2000x1500 with 1 Axes>"
      ]
     },
     "metadata": {},
     "output_type": "display_data"
    }
   ],
   "source": [
    "# Histograma de  la varaible \"age\" para identificar la distribución despues de  imputar  valores perdidos\n",
    "fn.plot_histogram_(Data2, 'age', 'blue', bins=10, figsize=(20, 15))"
   ]
  },
  {
   "cell_type": "markdown",
   "metadata": {},
   "source": [
    "## Tratamiento de datos nulos Histología\n",
    "\n",
    "---"
   ]
  },
  {
   "cell_type": "markdown",
   "metadata": {},
   "source": [
    "Al tratarse de datos categóricos se va a realizar una tabla de frecuencias cruzadas en base al clinical stage"
   ]
  },
  {
   "cell_type": "code",
   "execution_count": 11,
   "metadata": {},
   "outputs": [
    {
     "data": {
      "text/html": [
       "<div>\n",
       "<style scoped>\n",
       "    .dataframe tbody tr th:only-of-type {\n",
       "        vertical-align: middle;\n",
       "    }\n",
       "\n",
       "    .dataframe tbody tr th {\n",
       "        vertical-align: top;\n",
       "    }\n",
       "\n",
       "    .dataframe thead th {\n",
       "        text-align: right;\n",
       "    }\n",
       "</style>\n",
       "<table border=\"1\" class=\"dataframe\">\n",
       "  <thead>\n",
       "    <tr style=\"text-align: right;\">\n",
       "      <th>Histology</th>\n",
       "      <th>adenocarcinoma</th>\n",
       "      <th>large cell</th>\n",
       "      <th>nos</th>\n",
       "      <th>squamous cell carcinoma</th>\n",
       "    </tr>\n",
       "    <tr>\n",
       "      <th>Overall.Stage</th>\n",
       "      <th></th>\n",
       "      <th></th>\n",
       "      <th></th>\n",
       "      <th></th>\n",
       "    </tr>\n",
       "  </thead>\n",
       "  <tbody>\n",
       "    <tr>\n",
       "      <th>I</th>\n",
       "      <td>11</td>\n",
       "      <td>15</td>\n",
       "      <td>17</td>\n",
       "      <td>23</td>\n",
       "    </tr>\n",
       "    <tr>\n",
       "      <th>II</th>\n",
       "      <td>8</td>\n",
       "      <td>5</td>\n",
       "      <td>2</td>\n",
       "      <td>23</td>\n",
       "    </tr>\n",
       "    <tr>\n",
       "      <th>IIIa</th>\n",
       "      <td>14</td>\n",
       "      <td>36</td>\n",
       "      <td>15</td>\n",
       "      <td>44</td>\n",
       "    </tr>\n",
       "    <tr>\n",
       "      <th>IIIb</th>\n",
       "      <td>18</td>\n",
       "      <td>57</td>\n",
       "      <td>29</td>\n",
       "      <td>62</td>\n",
       "    </tr>\n",
       "  </tbody>\n",
       "</table>\n",
       "</div>"
      ],
      "text/plain": [
       "Histology      adenocarcinoma  large cell  nos  squamous cell carcinoma\n",
       "Overall.Stage                                                          \n",
       "I                          11          15   17                       23\n",
       "II                          8           5    2                       23\n",
       "IIIa                       14          36   15                       44\n",
       "IIIb                       18          57   29                       62"
      ]
     },
     "execution_count": 11,
     "metadata": {},
     "output_type": "execute_result"
    }
   ],
   "source": [
    "pd.crosstab([Data2['Overall.Stage']], Data2['Histology'])"
   ]
  },
  {
   "cell_type": "code",
   "execution_count": 12,
   "metadata": {},
   "outputs": [
    {
     "name": "stdout",
     "output_type": "stream",
     "text": [
      "<class 'pandas.core.frame.DataFrame'>\n",
      "RangeIndex: 422 entries, 0 to 421\n",
      "Data columns (total 11 columns):\n",
      " #   Column            Non-Null Count  Dtype  \n",
      "---  ------            --------------  -----  \n",
      " 0   PatientID         422 non-null    object \n",
      " 1   age               422 non-null    float64\n",
      " 2   clinical.T.Stage  421 non-null    float64\n",
      " 3   Clinical.N.Stage  422 non-null    int64  \n",
      " 4   Clinical.M.Stage  422 non-null    int64  \n",
      " 5   Overall.Stage     421 non-null    object \n",
      " 6   Histology         422 non-null    object \n",
      " 7   gender            422 non-null    object \n",
      " 8   Survival.time     422 non-null    int64  \n",
      " 9   deadstatus.event  422 non-null    int64  \n",
      " 10  F.analysis        422 non-null    float64\n",
      "dtypes: float64(3), int64(4), object(4)\n",
      "memory usage: 36.4+ KB\n"
     ]
    }
   ],
   "source": [
    "Data3=Data2.copy()\n",
    "Data3[[\"Histology\"]]=Data3[[\"Histology\"]].fillna('squamous cell carcinoma')\n",
    "Data3.info()"
   ]
  },
  {
   "cell_type": "markdown",
   "metadata": {},
   "source": [
    "## Tratamiento de datos faltantes DF"
   ]
  },
  {
   "cell_type": "code",
   "execution_count": 13,
   "metadata": {},
   "outputs": [
    {
     "data": {
      "image/png": "[encoded data removed]",
      "text/plain": [
       "<Figure size 2000x1500 with 1 Axes>"
      ]
     },
     "metadata": {},
     "output_type": "display_data"
    }
   ],
   "source": [
    "# Histograma de la varaiable  de interes F.analysis\n",
    "fn.plot_histogram_(Data3, 'F.analysis','green', bins=10, figsize=(20, 15))"
   ]
  },
  {
   "cell_type": "code",
   "execution_count": 14,
   "metadata": {},
   "outputs": [
    {
     "data": {
      "text/html": [
       "<div>\n",
       "<style scoped>\n",
       "    .dataframe tbody tr th:only-of-type {\n",
       "        vertical-align: middle;\n",
       "    }\n",
       "\n",
       "    .dataframe tbody tr th {\n",
       "        vertical-align: top;\n",
       "    }\n",
       "\n",
       "    .dataframe thead th {\n",
       "        text-align: right;\n",
       "    }\n",
       "</style>\n",
       "<table border=\"1\" class=\"dataframe\">\n",
       "  <thead>\n",
       "    <tr style=\"text-align: right;\">\n",
       "      <th></th>\n",
       "      <th>PatientID</th>\n",
       "      <th>age</th>\n",
       "      <th>clinical.T.Stage</th>\n",
       "      <th>Clinical.N.Stage</th>\n",
       "      <th>Clinical.M.Stage</th>\n",
       "      <th>Overall.Stage</th>\n",
       "      <th>Histology</th>\n",
       "      <th>gender</th>\n",
       "      <th>Survival.time</th>\n",
       "      <th>deadstatus.event</th>\n",
       "      <th>F.analysis</th>\n",
       "    </tr>\n",
       "  </thead>\n",
       "  <tbody>\n",
       "    <tr>\n",
       "      <th>0</th>\n",
       "      <td>LUNG1-001</td>\n",
       "      <td>78.7515</td>\n",
       "      <td>2.0</td>\n",
       "      <td>3</td>\n",
       "      <td>0</td>\n",
       "      <td>IIIb</td>\n",
       "      <td>large cell</td>\n",
       "      <td>male</td>\n",
       "      <td>2165</td>\n",
       "      <td>1</td>\n",
       "      <td>1.771485</td>\n",
       "    </tr>\n",
       "    <tr>\n",
       "      <th>1</th>\n",
       "      <td>LUNG1-002</td>\n",
       "      <td>83.8001</td>\n",
       "      <td>2.0</td>\n",
       "      <td>0</td>\n",
       "      <td>0</td>\n",
       "      <td>I</td>\n",
       "      <td>squamous cell carcinoma</td>\n",
       "      <td>male</td>\n",
       "      <td>155</td>\n",
       "      <td>1</td>\n",
       "      <td>1.881307</td>\n",
       "    </tr>\n",
       "    <tr>\n",
       "      <th>2</th>\n",
       "      <td>LUNG1-003</td>\n",
       "      <td>68.1807</td>\n",
       "      <td>2.0</td>\n",
       "      <td>3</td>\n",
       "      <td>0</td>\n",
       "      <td>IIIb</td>\n",
       "      <td>large cell</td>\n",
       "      <td>male</td>\n",
       "      <td>256</td>\n",
       "      <td>1</td>\n",
       "      <td>1.376259</td>\n",
       "    </tr>\n",
       "    <tr>\n",
       "      <th>3</th>\n",
       "      <td>LUNG1-004</td>\n",
       "      <td>70.8802</td>\n",
       "      <td>2.0</td>\n",
       "      <td>1</td>\n",
       "      <td>0</td>\n",
       "      <td>II</td>\n",
       "      <td>squamous cell carcinoma</td>\n",
       "      <td>male</td>\n",
       "      <td>141</td>\n",
       "      <td>1</td>\n",
       "      <td>1.73471</td>\n",
       "    </tr>\n",
       "    <tr>\n",
       "      <th>4</th>\n",
       "      <td>LUNG1-005</td>\n",
       "      <td>80.4819</td>\n",
       "      <td>4.0</td>\n",
       "      <td>2</td>\n",
       "      <td>0</td>\n",
       "      <td>IIIb</td>\n",
       "      <td>squamous cell carcinoma</td>\n",
       "      <td>male</td>\n",
       "      <td>353</td>\n",
       "      <td>1</td>\n",
       "      <td>1.581113</td>\n",
       "    </tr>\n",
       "  </tbody>\n",
       "</table>\n",
       "</div>"
      ],
      "text/plain": [
       "   PatientID      age clinical.T.Stage Clinical.N.Stage Clinical.M.Stage  \\\n",
       "0  LUNG1-001  78.7515              2.0                3                0   \n",
       "1  LUNG1-002  83.8001              2.0                0                0   \n",
       "2  LUNG1-003  68.1807              2.0                3                0   \n",
       "3  LUNG1-004  70.8802              2.0                1                0   \n",
       "4  LUNG1-005  80.4819              4.0                2                0   \n",
       "\n",
       "  Overall.Stage                Histology gender Survival.time  \\\n",
       "0          IIIb               large cell   male          2165   \n",
       "1             I  squamous cell carcinoma   male           155   \n",
       "2          IIIb               large cell   male           256   \n",
       "3            II  squamous cell carcinoma   male           141   \n",
       "4          IIIb  squamous cell carcinoma   male           353   \n",
       "\n",
       "  deadstatus.event F.analysis  \n",
       "0                1   1.771485  \n",
       "1                1   1.881307  \n",
       "2                1   1.376259  \n",
       "3                1    1.73471  \n",
       "4                1   1.581113  "
      ]
     },
     "execution_count": 14,
     "metadata": {},
     "output_type": "execute_result"
    }
   ],
   "source": [
    "# Experimentación de  imputación por mediana\n",
    "si = SimpleImputer(strategy='median')\n",
    "\n",
    "col_imputations = si.fit_transform(Data3[['F.analysis']])\n",
    "values_imputations = np.concatenate([Data3[[ 'PatientID', 'age','clinical.T.Stage', 'Clinical.N.Stage',\n",
    "       'Clinical.M.Stage', 'Overall.Stage', 'Histology', 'gender',\n",
    "       'Survival.time', 'deadstatus.event']].values, col_imputations], axis=1)\n",
    "\n",
    "Data4 = pd.DataFrame(values_imputations, columns=columnas)\n",
    "Data4.head()"
   ]
  },
  {
   "cell_type": "code",
   "execution_count": 15,
   "metadata": {},
   "outputs": [
    {
     "data": {
      "text/html": [
       "<div>\n",
       "<style scoped>\n",
       "    .dataframe tbody tr th:only-of-type {\n",
       "        vertical-align: middle;\n",
       "    }\n",
       "\n",
       "    .dataframe tbody tr th {\n",
       "        vertical-align: top;\n",
       "    }\n",
       "\n",
       "    .dataframe thead th {\n",
       "        text-align: right;\n",
       "    }\n",
       "</style>\n",
       "<table border=\"1\" class=\"dataframe\">\n",
       "  <thead>\n",
       "    <tr style=\"text-align: right;\">\n",
       "      <th></th>\n",
       "      <th>age</th>\n",
       "      <th>clinical.T.Stage</th>\n",
       "      <th>Clinical.N.Stage</th>\n",
       "      <th>Clinical.M.Stage</th>\n",
       "      <th>Survival.time</th>\n",
       "      <th>deadstatus.event</th>\n",
       "      <th>F.analysis</th>\n",
       "    </tr>\n",
       "  </thead>\n",
       "  <tbody>\n",
       "    <tr>\n",
       "      <th>count</th>\n",
       "      <td>422.000000</td>\n",
       "      <td>421.000000</td>\n",
       "      <td>422.000000</td>\n",
       "      <td>422.000000</td>\n",
       "      <td>422.000000</td>\n",
       "      <td>422.000000</td>\n",
       "      <td>422.000000</td>\n",
       "    </tr>\n",
       "    <tr>\n",
       "      <th>mean</th>\n",
       "      <td>68.036500</td>\n",
       "      <td>2.475059</td>\n",
       "      <td>1.355450</td>\n",
       "      <td>0.030806</td>\n",
       "      <td>988.857820</td>\n",
       "      <td>0.883886</td>\n",
       "      <td>1.469367</td>\n",
       "    </tr>\n",
       "    <tr>\n",
       "      <th>std</th>\n",
       "      <td>9.816499</td>\n",
       "      <td>1.130727</td>\n",
       "      <td>1.218116</td>\n",
       "      <td>0.294847</td>\n",
       "      <td>1035.567789</td>\n",
       "      <td>0.320742</td>\n",
       "      <td>0.322038</td>\n",
       "    </tr>\n",
       "    <tr>\n",
       "      <th>min</th>\n",
       "      <td>33.684900</td>\n",
       "      <td>1.000000</td>\n",
       "      <td>0.000000</td>\n",
       "      <td>0.000000</td>\n",
       "      <td>10.000000</td>\n",
       "      <td>0.000000</td>\n",
       "      <td>0.521329</td>\n",
       "    </tr>\n",
       "    <tr>\n",
       "      <th>25%</th>\n",
       "      <td>61.705175</td>\n",
       "      <td>2.000000</td>\n",
       "      <td>0.000000</td>\n",
       "      <td>0.000000</td>\n",
       "      <td>261.000000</td>\n",
       "      <td>1.000000</td>\n",
       "      <td>1.241398</td>\n",
       "    </tr>\n",
       "    <tr>\n",
       "      <th>50%</th>\n",
       "      <td>68.036500</td>\n",
       "      <td>2.000000</td>\n",
       "      <td>2.000000</td>\n",
       "      <td>0.000000</td>\n",
       "      <td>545.500000</td>\n",
       "      <td>1.000000</td>\n",
       "      <td>1.486758</td>\n",
       "    </tr>\n",
       "    <tr>\n",
       "      <th>75%</th>\n",
       "      <td>75.391250</td>\n",
       "      <td>4.000000</td>\n",
       "      <td>2.000000</td>\n",
       "      <td>0.000000</td>\n",
       "      <td>1397.000000</td>\n",
       "      <td>1.000000</td>\n",
       "      <td>1.693736</td>\n",
       "    </tr>\n",
       "    <tr>\n",
       "      <th>max</th>\n",
       "      <td>91.704300</td>\n",
       "      <td>5.000000</td>\n",
       "      <td>4.000000</td>\n",
       "      <td>3.000000</td>\n",
       "      <td>4454.000000</td>\n",
       "      <td>1.000000</td>\n",
       "      <td>2.602347</td>\n",
       "    </tr>\n",
       "  </tbody>\n",
       "</table>\n",
       "</div>"
      ],
      "text/plain": [
       "              age  clinical.T.Stage  Clinical.N.Stage  Clinical.M.Stage  \\\n",
       "count  422.000000        421.000000        422.000000        422.000000   \n",
       "mean    68.036500          2.475059          1.355450          0.030806   \n",
       "std      9.816499          1.130727          1.218116          0.294847   \n",
       "min     33.684900          1.000000          0.000000          0.000000   \n",
       "25%     61.705175          2.000000          0.000000          0.000000   \n",
       "50%     68.036500          2.000000          2.000000          0.000000   \n",
       "75%     75.391250          4.000000          2.000000          0.000000   \n",
       "max     91.704300          5.000000          4.000000          3.000000   \n",
       "\n",
       "       Survival.time  deadstatus.event  F.analysis  \n",
       "count     422.000000        422.000000  422.000000  \n",
       "mean      988.857820          0.883886    1.469367  \n",
       "std      1035.567789          0.320742    0.322038  \n",
       "min        10.000000          0.000000    0.521329  \n",
       "25%       261.000000          1.000000    1.241398  \n",
       "50%       545.500000          1.000000    1.486758  \n",
       "75%      1397.000000          1.000000    1.693736  \n",
       "max      4454.000000          1.000000    2.602347  "
      ]
     },
     "execution_count": 15,
     "metadata": {},
     "output_type": "execute_result"
    }
   ],
   "source": [
    "\n",
    "Data4 = fn.manejo_tipo_dato(Data4 ,cols_int , cols_float)\n",
    "Data4.describe()"
   ]
  },
  {
   "cell_type": "code",
   "execution_count": 16,
   "metadata": {},
   "outputs": [
    {
     "data": {
      "image/png": "[encoded data removed]",
      "text/plain": [
       "<Figure size 2000x1500 with 1 Axes>"
      ]
     },
     "metadata": {},
     "output_type": "display_data"
    }
   ],
   "source": [
    "fn.plot_histogram_(Data4 , 'F.analysis','green', bins=10, figsize=(20, 15))"
   ]
  },
  {
   "cell_type": "markdown",
   "metadata": {},
   "source": [
    "## Tratamiento de datos faltantes clinical.T.Stage y Overall.Stage"
   ]
  },
  {
   "cell_type": "code",
   "execution_count": 17,
   "metadata": {},
   "outputs": [
    {
     "name": "stdout",
     "output_type": "stream",
     "text": [
      "84\n",
      "LUNG1-085\n",
      "Overall.Stage: IIIb\n",
      "Clinical.N.Stage: 3\n",
      "Clinical.M.Stage: 0\n"
     ]
    }
   ],
   "source": [
    "#Se almacena en Nulo si cada una de las filas de clinical.T.Stage contiene dato nulo o no\n",
    "\n",
    "nulo=Data4[[\"clinical.T.Stage\"]].isnull()\n",
    "\n",
    "#Se almacena en una lista el indice de las filas que contienen datos nulos para clinical.T.Stage\n",
    "filas_nulas=list()\n",
    "for indice_fila,fila in nulo.iterrows():\n",
    "    if nulo.at[indice_fila,'clinical.T.Stage']==True:\n",
    "      filas_nulas.append(indice_fila)\n",
    "      print(indice_fila)\n",
    "      print(Data4.at[indice_fila,'PatientID'])\n",
    "      print(\"Overall.Stage: \" + str(Data4.at[indice_fila,'Overall.Stage']))\n",
    "      print(\"Clinical.N.Stage: \"+ str(Data4.at[indice_fila,'Clinical.N.Stage']))\n",
    "      print(\"Clinical.M.Stage: \"+ str(Data4.at[indice_fila,'Clinical.M.Stage']))"
   ]
  },
  {
   "cell_type": "code",
   "execution_count": 18,
   "metadata": {},
   "outputs": [
    {
     "data": {
      "text/html": [
       "<div>\n",
       "<style scoped>\n",
       "    .dataframe tbody tr th:only-of-type {\n",
       "        vertical-align: middle;\n",
       "    }\n",
       "\n",
       "    .dataframe tbody tr th {\n",
       "        vertical-align: top;\n",
       "    }\n",
       "\n",
       "    .dataframe thead th {\n",
       "        text-align: right;\n",
       "    }\n",
       "</style>\n",
       "<table border=\"1\" class=\"dataframe\">\n",
       "  <thead>\n",
       "    <tr style=\"text-align: right;\">\n",
       "      <th></th>\n",
       "      <th>clinical.T.Stage</th>\n",
       "      <th>1.0</th>\n",
       "      <th>2.0</th>\n",
       "      <th>3.0</th>\n",
       "      <th>4.0</th>\n",
       "      <th>5.0</th>\n",
       "    </tr>\n",
       "    <tr>\n",
       "      <th>Clinical.N.Stage</th>\n",
       "      <th>Clinical.M.Stage</th>\n",
       "      <th></th>\n",
       "      <th></th>\n",
       "      <th></th>\n",
       "      <th></th>\n",
       "      <th></th>\n",
       "    </tr>\n",
       "  </thead>\n",
       "  <tbody>\n",
       "    <tr>\n",
       "      <th>0</th>\n",
       "      <th>0</th>\n",
       "      <td>50</td>\n",
       "      <td>52</td>\n",
       "      <td>17</td>\n",
       "      <td>51</td>\n",
       "      <td>0</td>\n",
       "    </tr>\n",
       "    <tr>\n",
       "      <th>1</th>\n",
       "      <th>0</th>\n",
       "      <td>3</td>\n",
       "      <td>12</td>\n",
       "      <td>5</td>\n",
       "      <td>3</td>\n",
       "      <td>0</td>\n",
       "    </tr>\n",
       "    <tr>\n",
       "      <th rowspan=\"3\" valign=\"top\">2</th>\n",
       "      <th>0</th>\n",
       "      <td>21</td>\n",
       "      <td>55</td>\n",
       "      <td>21</td>\n",
       "      <td>39</td>\n",
       "      <td>2</td>\n",
       "    </tr>\n",
       "    <tr>\n",
       "      <th>1</th>\n",
       "      <td>0</td>\n",
       "      <td>0</td>\n",
       "      <td>0</td>\n",
       "      <td>1</td>\n",
       "      <td>0</td>\n",
       "    </tr>\n",
       "    <tr>\n",
       "      <th>3</th>\n",
       "      <td>1</td>\n",
       "      <td>0</td>\n",
       "      <td>0</td>\n",
       "      <td>1</td>\n",
       "      <td>0</td>\n",
       "    </tr>\n",
       "    <tr>\n",
       "      <th rowspan=\"2\" valign=\"top\">3</th>\n",
       "      <th>0</th>\n",
       "      <td>18</td>\n",
       "      <td>37</td>\n",
       "      <td>9</td>\n",
       "      <td>18</td>\n",
       "      <td>0</td>\n",
       "    </tr>\n",
       "    <tr>\n",
       "      <th>3</th>\n",
       "      <td>0</td>\n",
       "      <td>0</td>\n",
       "      <td>1</td>\n",
       "      <td>1</td>\n",
       "      <td>0</td>\n",
       "    </tr>\n",
       "    <tr>\n",
       "      <th>4</th>\n",
       "      <th>0</th>\n",
       "      <td>0</td>\n",
       "      <td>0</td>\n",
       "      <td>0</td>\n",
       "      <td>3</td>\n",
       "      <td>0</td>\n",
       "    </tr>\n",
       "  </tbody>\n",
       "</table>\n",
       "</div>"
      ],
      "text/plain": [
       "clinical.T.Stage                   1.0  2.0  3.0  4.0  5.0\n",
       "Clinical.N.Stage Clinical.M.Stage                         \n",
       "0                0                  50   52   17   51    0\n",
       "1                0                   3   12    5    3    0\n",
       "2                0                  21   55   21   39    2\n",
       "                 1                   0    0    0    1    0\n",
       "                 3                   1    0    0    1    0\n",
       "3                0                  18   37    9   18    0\n",
       "                 3                   0    0    1    1    0\n",
       "4                0                   0    0    0    3    0"
      ]
     },
     "execution_count": 18,
     "metadata": {},
     "output_type": "execute_result"
    }
   ],
   "source": [
    "pd.crosstab([Data4['Clinical.N.Stage'],Data4['Clinical.M.Stage']], Data4['clinical.T.Stage'])"
   ]
  },
  {
   "cell_type": "code",
   "execution_count": 19,
   "metadata": {},
   "outputs": [
    {
     "name": "stdout",
     "output_type": "stream",
     "text": [
      "nan\n",
      "2.0\n"
     ]
    }
   ],
   "source": [
    "filas_nulas=list()\n",
    "for indice_fila,fila in nulo.iterrows():\n",
    "    if nulo.at[indice_fila,'clinical.T.Stage']==True:\n",
    "      filas_nulas.append(indice_fila)\n",
    "      print(str(Data4.at[indice_fila,'clinical.T.Stage']))\n",
    "      Data4.at[indice_fila,'clinical.T.Stage']=2\n",
    "      print(str(Data4.at[indice_fila,'clinical.T.Stage']))"
   ]
  },
  {
   "cell_type": "code",
   "execution_count": 20,
   "metadata": {},
   "outputs": [
    {
     "name": "stdout",
     "output_type": "stream",
     "text": [
      "271\n",
      "LUNG1-272\n",
      "clinical.T.Stage: 5.0\n",
      "Clinical.N.Stage: 2\n",
      "Clinical.M.Stage: 0\n"
     ]
    }
   ],
   "source": [
    "#Se almacena en Nulo si cada una de las filas de Overall.Stage contiene dato nulo o no\n",
    "\n",
    "nulo=Data4[[\"Overall.Stage\"]].isnull()\n",
    "\n",
    "#Se almacena en una lista el indice de las filas que contienen datos nulos para Overall.Stage\n",
    "filas_nulas=list()\n",
    "for indice_fila,fila in nulo.iterrows():\n",
    "    if nulo.at[indice_fila,'Overall.Stage']==True:\n",
    "      filas_nulas.append(indice_fila)\n",
    "      print(indice_fila)\n",
    "      print(Data4.at[indice_fila,'PatientID'])\n",
    "      print(\"clinical.T.Stage: \" + str(Data4.at[indice_fila,'clinical.T.Stage']))\n",
    "      print(\"Clinical.N.Stage: \"+ str(Data4.at[indice_fila,'Clinical.N.Stage']))\n",
    "      print(\"Clinical.M.Stage: \"+ str(Data4.at[indice_fila,'Clinical.M.Stage']))"
   ]
  },
  {
   "cell_type": "code",
   "execution_count": 21,
   "metadata": {},
   "outputs": [
    {
     "name": "stdout",
     "output_type": "stream",
     "text": [
      "<class 'pandas.core.frame.DataFrame'>\n",
      "Index: 421 entries, 0 to 421\n",
      "Data columns (total 11 columns):\n",
      " #   Column            Non-Null Count  Dtype  \n",
      "---  ------            --------------  -----  \n",
      " 0   PatientID         421 non-null    object \n",
      " 1   age               421 non-null    float64\n",
      " 2   clinical.T.Stage  421 non-null    float64\n",
      " 3   Clinical.N.Stage  421 non-null    int64  \n",
      " 4   Clinical.M.Stage  421 non-null    int64  \n",
      " 5   Overall.Stage     421 non-null    object \n",
      " 6   Histology         421 non-null    object \n",
      " 7   gender            421 non-null    object \n",
      " 8   Survival.time     421 non-null    int64  \n",
      " 9   deadstatus.event  421 non-null    int64  \n",
      " 10  F.analysis        421 non-null    float64\n",
      "dtypes: float64(3), int64(4), object(4)\n",
      "memory usage: 39.5+ KB\n"
     ]
    }
   ],
   "source": [
    "#Se eliminan las filas del dataframe\n",
    "Data_final_faltantes=Data4.drop([271], axis=0, inplace=False)\n",
    "Data_final_faltantes.info()\n",
    "# ## Exportar Dataframe a csv\n",
    "# Data_final_faltantes.to_csv('NSCLC_DF_faltantes.csv')"
   ]
  },
  {
   "cell_type": "code",
   "execution_count": 22,
   "metadata": {},
   "outputs": [],
   "source": [
    "nscl = pd.read_csv('Data/df_con_imputaciones.csv')"
   ]
  },
  {
   "cell_type": "code",
   "execution_count": 23,
   "metadata": {},
   "outputs": [
    {
     "data": {
      "text/html": [
       "<div>\n",
       "<style scoped>\n",
       "    .dataframe tbody tr th:only-of-type {\n",
       "        vertical-align: middle;\n",
       "    }\n",
       "\n",
       "    .dataframe tbody tr th {\n",
       "        vertical-align: top;\n",
       "    }\n",
       "\n",
       "    .dataframe thead th {\n",
       "        text-align: right;\n",
       "    }\n",
       "</style>\n",
       "<table border=\"1\" class=\"dataframe\">\n",
       "  <thead>\n",
       "    <tr style=\"text-align: right;\">\n",
       "      <th></th>\n",
       "      <th>PatientID</th>\n",
       "      <th>age</th>\n",
       "      <th>clinical.T.Stage</th>\n",
       "      <th>Clinical.N.Stage</th>\n",
       "      <th>Clinical.M.Stage</th>\n",
       "      <th>Overall.Stage</th>\n",
       "      <th>Histology</th>\n",
       "      <th>gender</th>\n",
       "      <th>Survival.time</th>\n",
       "      <th>deadstatus.event</th>\n",
       "      <th>F.analysis</th>\n",
       "    </tr>\n",
       "  </thead>\n",
       "  <tbody>\n",
       "  </tbody>\n",
       "</table>\n",
       "</div>"
      ],
      "text/plain": [
       "Empty DataFrame\n",
       "Columns: [PatientID, age, clinical.T.Stage, Clinical.N.Stage, Clinical.M.Stage, Overall.Stage, Histology, gender, Survival.time, deadstatus.event, F.analysis]\n",
       "Index: []"
      ]
     },
     "execution_count": 23,
     "metadata": {},
     "output_type": "execute_result"
    }
   ],
   "source": [
    "nan_rows = nscl[nscl['Histology'].isna()]\n",
    "nan_rows"
   ]
  },
  {
   "cell_type": "code",
   "execution_count": 24,
   "metadata": {},
   "outputs": [
    {
     "data": {
      "text/html": [
       "<div>\n",
       "<style scoped>\n",
       "    .dataframe tbody tr th:only-of-type {\n",
       "        vertical-align: middle;\n",
       "    }\n",
       "\n",
       "    .dataframe tbody tr th {\n",
       "        vertical-align: top;\n",
       "    }\n",
       "\n",
       "    .dataframe thead th {\n",
       "        text-align: right;\n",
       "    }\n",
       "</style>\n",
       "<table border=\"1\" class=\"dataframe\">\n",
       "  <thead>\n",
       "    <tr style=\"text-align: right;\">\n",
       "      <th></th>\n",
       "      <th>PatientID</th>\n",
       "      <th>age</th>\n",
       "      <th>clinical.T.Stage</th>\n",
       "      <th>Clinical.N.Stage</th>\n",
       "      <th>Clinical.M.Stage</th>\n",
       "      <th>Overall.Stage</th>\n",
       "      <th>Histology</th>\n",
       "      <th>gender</th>\n",
       "      <th>Survival.time</th>\n",
       "      <th>deadstatus.event</th>\n",
       "      <th>F.analysis</th>\n",
       "    </tr>\n",
       "  </thead>\n",
       "  <tbody>\n",
       "    <tr>\n",
       "      <th>55</th>\n",
       "      <td>LUNG1-056</td>\n",
       "      <td>68.0365</td>\n",
       "      <td>5.0</td>\n",
       "      <td>2</td>\n",
       "      <td>0</td>\n",
       "      <td>IIIa</td>\n",
       "      <td>squamous cell carcinoma</td>\n",
       "      <td>female</td>\n",
       "      <td>547</td>\n",
       "      <td>0</td>\n",
       "      <td>1.672505</td>\n",
       "    </tr>\n",
       "  </tbody>\n",
       "</table>\n",
       "</div>"
      ],
      "text/plain": [
       "    PatientID      age  clinical.T.Stage  Clinical.N.Stage  Clinical.M.Stage  \\\n",
       "55  LUNG1-056  68.0365               5.0                 2                 0   \n",
       "\n",
       "   Overall.Stage                Histology  gender  Survival.time  \\\n",
       "55          IIIa  squamous cell carcinoma  female            547   \n",
       "\n",
       "    deadstatus.event  F.analysis  \n",
       "55                 0    1.672505  "
      ]
     },
     "execution_count": 24,
     "metadata": {},
     "output_type": "execute_result"
    }
   ],
   "source": [
    "T_rows = nscl[nscl['clinical.T.Stage'] == 5]\n",
    "T_rows"
   ]
  },
  {
   "cell_type": "code",
   "execution_count": 25,
   "metadata": {},
   "outputs": [
    {
     "data": {
      "text/html": [
       "<div>\n",
       "<style scoped>\n",
       "    .dataframe tbody tr th:only-of-type {\n",
       "        vertical-align: middle;\n",
       "    }\n",
       "\n",
       "    .dataframe tbody tr th {\n",
       "        vertical-align: top;\n",
       "    }\n",
       "\n",
       "    .dataframe thead th {\n",
       "        text-align: right;\n",
       "    }\n",
       "</style>\n",
       "<table border=\"1\" class=\"dataframe\">\n",
       "  <thead>\n",
       "    <tr style=\"text-align: right;\">\n",
       "      <th></th>\n",
       "      <th>PatientID</th>\n",
       "      <th>age</th>\n",
       "      <th>clinical.T.Stage</th>\n",
       "      <th>Clinical.N.Stage</th>\n",
       "      <th>Clinical.M.Stage</th>\n",
       "      <th>Overall.Stage</th>\n",
       "      <th>Histology</th>\n",
       "      <th>gender</th>\n",
       "      <th>Survival.time</th>\n",
       "      <th>deadstatus.event</th>\n",
       "      <th>F.analysis</th>\n",
       "    </tr>\n",
       "  </thead>\n",
       "  <tbody>\n",
       "    <tr>\n",
       "      <th>166</th>\n",
       "      <td>LUNG1-167</td>\n",
       "      <td>74.9295</td>\n",
       "      <td>4.0</td>\n",
       "      <td>4</td>\n",
       "      <td>0</td>\n",
       "      <td>IIIb</td>\n",
       "      <td>squamous cell carcinoma</td>\n",
       "      <td>male</td>\n",
       "      <td>1357</td>\n",
       "      <td>1</td>\n",
       "      <td>0.872282</td>\n",
       "    </tr>\n",
       "    <tr>\n",
       "      <th>231</th>\n",
       "      <td>LUNG1-232</td>\n",
       "      <td>73.2868</td>\n",
       "      <td>4.0</td>\n",
       "      <td>4</td>\n",
       "      <td>0</td>\n",
       "      <td>IIIb</td>\n",
       "      <td>large cell</td>\n",
       "      <td>male</td>\n",
       "      <td>2521</td>\n",
       "      <td>1</td>\n",
       "      <td>1.588498</td>\n",
       "    </tr>\n",
       "    <tr>\n",
       "      <th>290</th>\n",
       "      <td>LUNG1-292</td>\n",
       "      <td>66.2149</td>\n",
       "      <td>4.0</td>\n",
       "      <td>4</td>\n",
       "      <td>0</td>\n",
       "      <td>IIIb</td>\n",
       "      <td>squamous cell carcinoma</td>\n",
       "      <td>male</td>\n",
       "      <td>232</td>\n",
       "      <td>1</td>\n",
       "      <td>1.671252</td>\n",
       "    </tr>\n",
       "  </tbody>\n",
       "</table>\n",
       "</div>"
      ],
      "text/plain": [
       "     PatientID      age  clinical.T.Stage  Clinical.N.Stage  Clinical.M.Stage  \\\n",
       "166  LUNG1-167  74.9295               4.0                 4                 0   \n",
       "231  LUNG1-232  73.2868               4.0                 4                 0   \n",
       "290  LUNG1-292  66.2149               4.0                 4                 0   \n",
       "\n",
       "    Overall.Stage                Histology gender  Survival.time  \\\n",
       "166          IIIb  squamous cell carcinoma   male           1357   \n",
       "231          IIIb               large cell   male           2521   \n",
       "290          IIIb  squamous cell carcinoma   male            232   \n",
       "\n",
       "     deadstatus.event  F.analysis  \n",
       "166                 1    0.872282  \n",
       "231                 1    1.588498  \n",
       "290                 1    1.671252  "
      ]
     },
     "execution_count": 25,
     "metadata": {},
     "output_type": "execute_result"
    }
   ],
   "source": [
    "N_rows = nscl[nscl['Clinical.N.Stage'] == 4]\n",
    "N_rows"
   ]
  },
  {
   "cell_type": "code",
   "execution_count": 26,
   "metadata": {},
   "outputs": [
    {
     "data": {
      "text/html": [
       "<div>\n",
       "<style scoped>\n",
       "    .dataframe tbody tr th:only-of-type {\n",
       "        vertical-align: middle;\n",
       "    }\n",
       "\n",
       "    .dataframe tbody tr th {\n",
       "        vertical-align: top;\n",
       "    }\n",
       "\n",
       "    .dataframe thead th {\n",
       "        text-align: right;\n",
       "    }\n",
       "</style>\n",
       "<table border=\"1\" class=\"dataframe\">\n",
       "  <thead>\n",
       "    <tr style=\"text-align: right;\">\n",
       "      <th></th>\n",
       "      <th>PatientID</th>\n",
       "      <th>age</th>\n",
       "      <th>clinical.T.Stage</th>\n",
       "      <th>Clinical.N.Stage</th>\n",
       "      <th>Clinical.M.Stage</th>\n",
       "      <th>Overall.Stage</th>\n",
       "      <th>Histology</th>\n",
       "      <th>gender</th>\n",
       "      <th>Survival.time</th>\n",
       "      <th>deadstatus.event</th>\n",
       "      <th>F.analysis</th>\n",
       "    </tr>\n",
       "  </thead>\n",
       "  <tbody>\n",
       "    <tr>\n",
       "      <th>71</th>\n",
       "      <td>LUNG1-072</td>\n",
       "      <td>71.4743</td>\n",
       "      <td>4.0</td>\n",
       "      <td>3</td>\n",
       "      <td>3</td>\n",
       "      <td>IIIb</td>\n",
       "      <td>nos</td>\n",
       "      <td>male</td>\n",
       "      <td>377</td>\n",
       "      <td>1</td>\n",
       "      <td>1.542416</td>\n",
       "    </tr>\n",
       "    <tr>\n",
       "      <th>255</th>\n",
       "      <td>LUNG1-256</td>\n",
       "      <td>53.0842</td>\n",
       "      <td>4.0</td>\n",
       "      <td>2</td>\n",
       "      <td>3</td>\n",
       "      <td>IIIb</td>\n",
       "      <td>large cell</td>\n",
       "      <td>male</td>\n",
       "      <td>291</td>\n",
       "      <td>1</td>\n",
       "      <td>1.658656</td>\n",
       "    </tr>\n",
       "    <tr>\n",
       "      <th>268</th>\n",
       "      <td>LUNG1-269</td>\n",
       "      <td>73.0595</td>\n",
       "      <td>3.0</td>\n",
       "      <td>3</td>\n",
       "      <td>3</td>\n",
       "      <td>IIIa</td>\n",
       "      <td>large cell</td>\n",
       "      <td>male</td>\n",
       "      <td>193</td>\n",
       "      <td>1</td>\n",
       "      <td>1.382715</td>\n",
       "    </tr>\n",
       "    <tr>\n",
       "      <th>331</th>\n",
       "      <td>LUNG1-333</td>\n",
       "      <td>63.6988</td>\n",
       "      <td>1.0</td>\n",
       "      <td>2</td>\n",
       "      <td>3</td>\n",
       "      <td>IIIa</td>\n",
       "      <td>adenocarcinoma</td>\n",
       "      <td>male</td>\n",
       "      <td>2985</td>\n",
       "      <td>1</td>\n",
       "      <td>1.223261</td>\n",
       "    </tr>\n",
       "  </tbody>\n",
       "</table>\n",
       "</div>"
      ],
      "text/plain": [
       "     PatientID      age  clinical.T.Stage  Clinical.N.Stage  Clinical.M.Stage  \\\n",
       "71   LUNG1-072  71.4743               4.0                 3                 3   \n",
       "255  LUNG1-256  53.0842               4.0                 2                 3   \n",
       "268  LUNG1-269  73.0595               3.0                 3                 3   \n",
       "331  LUNG1-333  63.6988               1.0                 2                 3   \n",
       "\n",
       "    Overall.Stage       Histology gender  Survival.time  deadstatus.event  \\\n",
       "71           IIIb             nos   male            377                 1   \n",
       "255          IIIb      large cell   male            291                 1   \n",
       "268          IIIa      large cell   male            193                 1   \n",
       "331          IIIa  adenocarcinoma   male           2985                 1   \n",
       "\n",
       "     F.analysis  \n",
       "71     1.542416  \n",
       "255    1.658656  \n",
       "268    1.382715  \n",
       "331    1.223261  "
      ]
     },
     "execution_count": 26,
     "metadata": {},
     "output_type": "execute_result"
    }
   ],
   "source": [
    "M_rows = nscl[nscl['Clinical.M.Stage'] == 3]\n",
    "M_rows"
   ]
  },
  {
   "cell_type": "markdown",
   "metadata": {},
   "source": [
    "## DISTRIBUCIÓN DE LA EDAD, survival.time y F.analysis"
   ]
  },
  {
   "cell_type": "code",
   "execution_count": 27,
   "metadata": {},
   "outputs": [
    {
     "data": {
      "image/png": "[encoded data removed]",
      "text/plain": [
       "<Figure size 3000x1500 with 3 Axes>"
      ]
     },
     "metadata": {},
     "output_type": "display_data"
    }
   ],
   "source": [
    "plt.figure(figsize=(30,15))\n",
    "\n",
    "plt.subplot(421)\n",
    "nscl['age'].plot.hist(bins=20, color='cyan', label='Histogram of age', edgecolor='black')\n",
    "plt.legend(loc='best')\n",
    "plt.grid(False)\n",
    "plt.subplot(423)\n",
    "nscl['Survival.time'].plot.hist(bins=60, color='blue', label='Histogram of Survival.time', edgecolor='black')\n",
    "plt.legend(loc='best')\n",
    "plt.grid(False)\n",
    "plt.subplot(425)\n",
    "nscl['F.analysis'].plot.hist(bins=20, color='cyan', label='Histogram of F.analysis', edgecolor='black')\n",
    "plt.legend(loc='best')\n",
    "plt.grid(False)"
   ]
  },
  {
   "cell_type": "markdown",
   "metadata": {},
   "source": [
    "## DISTRIBUCIÓN DE 'clinical.T.Stage'"
   ]
  },
  {
   "cell_type": "code",
   "execution_count": 29,
   "metadata": {},
   "outputs": [
    {
     "data": {
      "image/png": "[encoded data removed]",
      "text/plain": [
       "<Figure size 800x550 with 1 Axes>"
      ]
     },
     "metadata": {},
     "output_type": "display_data"
    },
    {
     "name": "stdout",
     "output_type": "stream",
     "text": [
      "clinical.T.Stage\n",
      "2.0    157\n",
      "4.0    117\n",
      "1.0     93\n",
      "3.0     53\n",
      "5.0      1\n",
      "Name: count, dtype: int64\n"
     ]
    }
   ],
   "source": [
    "# grafico de barras  para analizar  la distribución de la información del estadio asociado al tamaño o expansión del tumor\n",
    "fn.plot_frequency(nscl,'clinical.T.Stage')"
   ]
  },
  {
   "cell_type": "markdown",
   "metadata": {},
   "source": [
    "## DISTRIBUCIÓN DE Clinical.N.Stage"
   ]
  },
  {
   "cell_type": "code",
   "execution_count": 30,
   "metadata": {},
   "outputs": [
    {
     "data": {
      "image/png": "[encoded data removed]",
      "text/plain": [
       "<Figure size 800x550 with 1 Axes>"
      ]
     },
     "metadata": {},
     "output_type": "display_data"
    },
    {
     "name": "stdout",
     "output_type": "stream",
     "text": [
      "Clinical.N.Stage\n",
      "0    170\n",
      "2    140\n",
      "3     85\n",
      "1     23\n",
      "4      3\n",
      "Name: count, dtype: int64\n"
     ]
    }
   ],
   "source": [
    "# grafico de barras  para analizar  la distribución de la información del estadio asociado a la cantidad de  nodulos linfaticos  infectados\n",
    "fn.plot_frequency(nscl,'Clinical.N.Stage')"
   ]
  },
  {
   "cell_type": "markdown",
   "metadata": {},
   "source": [
    "## DISTRIBUCIÓN DE Clinical.M.Stage"
   ]
  },
  {
   "cell_type": "code",
   "execution_count": 31,
   "metadata": {},
   "outputs": [
    {
     "data": {
      "image/png": "[encoded data removed]",
      "text/plain": [
       "<Figure size 800x550 with 1 Axes>"
      ]
     },
     "metadata": {},
     "output_type": "display_data"
    },
    {
     "name": "stdout",
     "output_type": "stream",
     "text": [
      "Clinical.M.Stage\n",
      "0    416\n",
      "3      4\n",
      "1      1\n",
      "Name: count, dtype: int64\n"
     ]
    }
   ],
   "source": [
    "# grafico de barras  para analizar  la distribución de la información del estadio asociado al nivel de metastasis presente\n",
    "fn.plot_frequency(nscl,'Clinical.M.Stage')"
   ]
  },
  {
   "cell_type": "markdown",
   "metadata": {},
   "source": [
    "## DISTRIBUCIÓN DE Overall.Stage"
   ]
  },
  {
   "cell_type": "code",
   "execution_count": 32,
   "metadata": {},
   "outputs": [
    {
     "data": {
      "image/png": "[encoded data removed]",
      "text/plain": [
       "<Figure size 800x550 with 1 Axes>"
      ]
     },
     "metadata": {},
     "output_type": "display_data"
    },
    {
     "name": "stdout",
     "output_type": "stream",
     "text": [
      "Overall.Stage\n",
      "IIIb    176\n",
      "IIIa    112\n",
      "I        93\n",
      "II       40\n",
      "Name: count, dtype: int64\n"
     ]
    }
   ],
   "source": [
    "# grafico de barras  para analizar  la distribución de la información del estadio asociado a la condicion de  enfermedad (cáncer)\n",
    "fn.plot_frequency(nscl,'Overall.Stage')"
   ]
  },
  {
   "cell_type": "code",
   "execution_count": 35,
   "metadata": {},
   "outputs": [
    {
     "data": {
      "image/png": "[encoded data removed]",
      "text/plain": [
       "<Figure size 800x550 with 1 Axes>"
      ]
     },
     "metadata": {},
     "output_type": "display_data"
    },
    {
     "name": "stdout",
     "output_type": "stream",
     "text": [
      "Histology\n",
      "squamous cell carcinoma    152\n",
      "large cell                 114\n",
      "nos                         63\n",
      "adenocarcinoma              51\n",
      "Name: count, dtype: int64\n"
     ]
    },
    {
     "data": {
      "image/png": "[encoded data removed]",
      "text/plain": [
       "<Figure size 800x550 with 1 Axes>"
      ]
     },
     "metadata": {},
     "output_type": "display_data"
    },
    {
     "name": "stdout",
     "output_type": "stream",
     "text": [
      "Histology\n",
      "squamous cell carcinoma    194\n",
      "large cell                 113\n",
      "nos                         63\n",
      "adenocarcinoma              51\n",
      "Name: count, dtype: int64\n"
     ]
    }
   ],
   "source": [
    "# grafico de barras  para analizar  la distribución de la información de histologia\n",
    "fn.plot_frequency(df_nsclc,'Histology')# sin datos imputados la variable analizada\n",
    "fn.plot_frequency(nscl,'Histology') # con datos imputados en la variable analizada"
   ]
  },
  {
   "cell_type": "markdown",
   "metadata": {},
   "source": [
    "## DISTRIBUCIÓN DE Gender"
   ]
  },
  {
   "cell_type": "code",
   "execution_count": 36,
   "metadata": {},
   "outputs": [
    {
     "data": {
      "image/png": "[encoded data removed]",
      "text/plain": [
       "<Figure size 800x550 with 1 Axes>"
      ]
     },
     "metadata": {},
     "output_type": "display_data"
    },
    {
     "name": "stdout",
     "output_type": "stream",
     "text": [
      "gender\n",
      "male      289\n",
      "female    132\n",
      "Name: count, dtype: int64\n"
     ]
    }
   ],
   "source": [
    "# distribución de  generos de las personas  analizadas\n",
    "fn.plot_frequency(nscl,'gender')"
   ]
  },
  {
   "cell_type": "markdown",
   "metadata": {},
   "source": [
    "## DISTRIBUCIÓN DE deadstatus.event"
   ]
  },
  {
   "cell_type": "code",
   "execution_count": 37,
   "metadata": {},
   "outputs": [
    {
     "data": {
      "image/png": "[encoded data removed]",
      "text/plain": [
       "<Figure size 800x550 with 1 Axes>"
      ]
     },
     "metadata": {},
     "output_type": "display_data"
    },
    {
     "name": "stdout",
     "output_type": "stream",
     "text": [
      "deadstatus.event\n",
      "1    372\n",
      "0     49\n",
      "Name: count, dtype: int64\n"
     ]
    }
   ],
   "source": [
    "# análisis de  la variable objetivo de evento \n",
    "fn.plot_frequency(nscl,'deadstatus.event')"
   ]
  }
 ],
 "metadata": {
  "kernelspec": {
   "display_name": "env",
   "language": "python",
   "name": "python3"
  },
  "language_info": {
   "codemirror_mode": {
    "name": "ipython",
    "version": 3
   },
   "file_extension": ".py",
   "mimetype": "text/x-python",
   "name": "python",
   "nbconvert_exporter": "python",
   "pygments_lexer": "ipython3",
   "version": "3.11.3"
  }
 },
 "nbformat": 4,
 "nbformat_minor": 2
}
